{
 "cells": [
  {
   "cell_type": "markdown",
   "id": "21835366",
   "metadata": {},
   "source": [
    "# 화면1. 라인별 트렌드 확인해보기"
   ]
  },
  {
   "cell_type": "code",
   "execution_count": 1,
   "id": "ef342714",
   "metadata": {
    "ExecuteTime": {
     "end_time": "2021-12-24T11:49:24.807955Z",
     "start_time": "2021-12-24T11:49:23.417241Z"
    }
   },
   "outputs": [],
   "source": [
    "import pandas as pd\n",
    "from pandas import json_normalize\n",
    "\n",
    "\n",
    "class Board1:\n",
    "    def __init__(self, json, champs):\n",
    "        # champs-position-win\n",
    "        df = pd.DataFrame()\n",
    "        json_df = pd.read_json(json)\n",
    "        for i in json_df.index:\n",
    "            temp_df = json_normalize(json_df.loc[i, 'participants'])\n",
    "            temp_df['gameId'] = json_df.loc[i, 'gameId']\n",
    "            temp_df['gameDuration'] = json_df.loc[i, 'gameDuration']\n",
    "            df = pd.concat([df, temp_df]).reset_index(drop=True)  # append가 아닌 concat의 이유\n",
    "        df_win_pos = df[['championName', 'individualPosition', 'win']]\n",
    "        df_win_pos = df_win_pos.astype({'win': int})\n",
    "        self.df_win_pos = df_win_pos\n",
    "\n",
    "        # ban\n",
    "        df2 = pd.DataFrame()\n",
    "        df3 = pd.DataFrame()\n",
    "        for i in json_df.index:\n",
    "            temp_df = json_normalize(json_df.loc[i, 'teams'])\n",
    "            temp_df['gameId'] = json_df.loc[i, 'gameId']\n",
    "            temp_df['gameDuration'] = json_df.loc[i, 'gameDuration']\n",
    "            df2 = pd.concat([df2, temp_df]).reset_index(drop=True)  # append가 아닌 concat의 이유\n",
    "        for i in df2.index:\n",
    "            temp_df = json_normalize(df2.loc[i, 'bans'])\n",
    "            df3 = pd.concat([df3, temp_df]).reset_index(drop=True)  # append가 아닌 concat의 이유\n",
    "        ban_raw = pd.DataFrame(df3['championId'].value_counts())\n",
    "        ban_raw.columns = ['ban_count']\n",
    "        ban_raw\n",
    "        self.df_ban = ban_raw\n",
    "\n",
    "        # champs\n",
    "        champs_key = champs[['id', 'key']]\n",
    "        champs_key = champs_key.set_index('key')\n",
    "        self.champs_key = champs_key\n",
    "\n",
    "    def all_champs_win_rate(self):\n",
    "        df_win_pos = self.df_win_pos\n",
    "        all_wr = df_win_pos.groupby('championName').mean()\n",
    "        return dict(all_wr)\n",
    "\n",
    "    def all_champs_pick_rate(self):\n",
    "        df_win_pos = self.df_win_pos\n",
    "        all_pr = df_win_pos['championName'].value_counts()\n",
    "        all_pr = dict(all_pr)\n",
    "        return dict(all_pr)\n",
    "\n",
    "    def all_champs_ban_rate(self):\n",
    "        ban_raw = self.df_ban\n",
    "        champs_key = self.champs_key\n",
    "        all_br = pd.concat([champs_key, ban_raw], axis=1, join='inner')\n",
    "        all_br = all_br.sort_values(by='ban_count', ascending=False)\n",
    "        all_br = all_br.set_index('id')\n",
    "        return dict(all_br)\n",
    "\n",
    "    def top_champs(self):\n",
    "        df_win_pos = self.df_win_pos\n",
    "        ban = pd.DataFrame(self.all_champs_ban_rate())\n",
    "        is_Top = df_win_pos['individualPosition'] == 'TOP'\n",
    "        top = df_win_pos[is_Top]\n",
    "        top = pd.DataFrame(top['championName'].value_counts())\n",
    "        top.columns = ['pick_count']\n",
    "        top = pd.concat([top, ban], axis=1, join='inner')\n",
    "        top['pick_ban_rate'] = top['pick_count'] + top['ban_count']\n",
    "        top = top.sort_values(by='pick_ban_rate', ascending=False)\n",
    "        return dict(top.pick_ban_rate)\n",
    "\n",
    "    def jug_champs(self):\n",
    "        df_win_pos = self.df_win_pos\n",
    "        ban = pd.DataFrame(self.all_champs_ban_rate())\n",
    "        is_Jungle = df_win_pos['individualPosition'] == 'JUNGLE'\n",
    "        jungle = df_win_pos[is_Jungle]\n",
    "        jungle = pd.DataFrame(jungle['championName'].value_counts())\n",
    "        jungle.columns = ['pick_count']\n",
    "        jungle = pd.concat([jungle, ban], axis=1, join='inner')\n",
    "        jungle['pick_ban_rate'] = jungle['pick_count'] + jungle['ban_count']\n",
    "        jungle = jungle.sort_values(by='pick_ban_rate', ascending=False)\n",
    "        return dict(jungle.pick_ban_rate)\n",
    "\n",
    "    def mid_champs(self):\n",
    "        df_win_pos = self.df_win_pos\n",
    "        ban = pd.DataFrame(self.all_champs_ban_rate())\n",
    "        is_Middle = df_win_pos['individualPosition'] == 'MIDDLE'\n",
    "        mid = df_win_pos[is_Middle]\n",
    "        mid = pd.DataFrame(mid['championName'].value_counts())\n",
    "        mid.columns = ['pick_count']\n",
    "        mid = pd.concat([mid, ban], axis=1, join='inner')\n",
    "        mid['pick_ban_rate'] = mid['pick_count'] + mid['ban_count']\n",
    "        mid = mid.sort_values(by='pick_ban_rate', ascending=False)\n",
    "        return dict(mid.pick_ban_rate)\n",
    "\n",
    "    def adc_champs(self):\n",
    "        df_win_pos = self.df_win_pos\n",
    "        ban = pd.DataFrame(self.all_champs_ban_rate())\n",
    "        is_Bottom = df_win_pos['individualPosition'] == 'BOTTOM'\n",
    "        adc = df_win_pos[is_Bottom]\n",
    "        adc = pd.DataFrame(adc['championName'].value_counts())\n",
    "        adc.columns = ['pick_count']\n",
    "        adc = pd.concat([adc, ban], axis=1, join='inner')\n",
    "        adc['pick_ban_rate'] = adc['pick_count'] + adc['ban_count']\n",
    "        adc = adc.sort_values(by='pick_ban_rate', ascending=False)\n",
    "        return dict(adc.pick_ban_rate)\n",
    "\n",
    "    def sup_champs(self):\n",
    "        df_win_pos = self.df_win_pos\n",
    "        ban = pd.DataFrame(self.all_champs_ban_rate())\n",
    "        is_Utility = df_win_pos['individualPosition'] == 'UTILITY'\n",
    "        sup = df_win_pos[is_Utility]\n",
    "        sup = pd.DataFrame(sup['championName'].value_counts())\n",
    "        sup.columns = ['pick_count']\n",
    "        sup = pd.concat([sup, ban], axis=1, join='inner')\n",
    "        sup['pick_ban_rate'] = sup['pick_count'] + sup['ban_count']\n",
    "        sup = sup.sort_values(by='pick_ban_rate', ascending=False)\n",
    "        return dict(sup.pick_ban_rate)"
   ]
  },
  {
   "cell_type": "code",
   "execution_count": 16,
   "id": "fb7d5504",
   "metadata": {
    "ExecuteTime": {
     "end_time": "2021-12-24T11:58:13.892757Z",
     "start_time": "2021-12-24T11:58:13.873754Z"
    }
   },
   "outputs": [],
   "source": [
    "import pickle\n",
    "# load data\n",
    "with open('output1.pickle', 'rb') as fr:\n",
    "    output1 = pickle.load(fr)"
   ]
  },
  {
   "cell_type": "code",
   "execution_count": 17,
   "id": "adcb20e6",
   "metadata": {
    "ExecuteTime": {
     "end_time": "2021-12-24T11:58:26.051571Z",
     "start_time": "2021-12-24T11:58:26.027232Z"
    }
   },
   "outputs": [
    {
     "name": "stdout",
     "output_type": "stream",
     "text": [
      "{'all_champs_win_rate': {'win': championName\n",
      "Aatrox     0.486423\n",
      "Ahri       0.497830\n",
      "Akali      0.477616\n",
      "Akshan     0.536446\n",
      "Alistar    0.484848\n",
      "             ...   \n",
      "Zed        0.505910\n",
      "Ziggs      0.506729\n",
      "Zilean     0.506346\n",
      "Zoe        0.512053\n",
      "Zyra       0.510479\n",
      "Name: win, Length: 157, dtype: float64}, 'all_champs_pick_rate': {'Kaisa': 21083, 'LeeSin': 20064, 'Ezreal': 18063, 'Jhin': 16323, 'Jinx': 14917, 'Graves': 14436, 'Yone': 13693, 'Jayce': 13617, 'Thresh': 12303, 'Talon': 11515, 'Lulu': 11489, 'Zed': 10913, 'Caitlyn': 10572, 'Viktor': 10509, 'Vayne': 10369, 'Blitzcrank': 10278, 'Akali': 9985, 'Irelia': 9967, 'Yasuo': 9116, 'Sylas': 9003, 'Lux': 8993, 'Nidalee': 8455, 'Lucian': 8177, 'Viego': 8025, 'Yuumi': 7891, 'Leona': 7796, 'Xerath': 7670, 'Vex': 7413, 'Leblanc': 7204, 'Ekko': 6677, 'Samira': 6278, 'Pyke': 6209, 'Camille': 6151, 'Aphelios': 5858, 'XinZhao': 5844, 'Karma': 5808, 'Qiyana': 5310, 'TwistedFate': 5306, 'Nautilus': 5172, 'Poppy': 5123, 'Aatrox': 5082, 'Sett': 4991, 'Jax': 4864, 'Fiora': 4813, 'Katarina': 4753, 'Akshan': 4733, 'Gragas': 4438, 'Kindred': 4244, 'Shaco': 4199, 'Kassadin': 4063, 'Syndra': 4046, 'Corki': 3887, 'Kayn': 3862, 'Morgana': 3852, 'Renekton': 3821, 'Malphite': 3780, 'Zoe': 3775, 'Alistar': 3696, 'Ryze': 3547, 'Nunu': 3534, 'Rakan': 3532, 'Galio': 3486, 'Ashe': 3401, 'Maokai': 3396, 'Darius': 3394, 'Zac': 3386, 'Ahri': 3226, 'Nami': 3109, 'Gwen': 3077, 'JarvanIV': 3052, 'MasterYi': 3049, 'Hecarim': 3001, 'RekSai': 3000, 'Soraka': 2923, 'MissFortune': 2861, 'Elise': 2860, 'Taliyah': 2794, 'TahmKench': 2784, 'Karthus': 2644, 'Shen': 2582, 'Teemo': 2568, 'Pantheon': 2553, 'Khazix': 2540, 'Warwick': 2534, 'Rengar': 2529, 'Cassiopeia': 2495, 'Draven': 2485, 'Tryndamere': 2470, 'Kennen': 2400, 'Trundle': 2386, 'Senna': 2293, 'Anivia': 2262, 'Orianna': 2247, 'Garen': 2246, 'Zilean': 2206, 'Riven': 2127, 'Xayah': 2090, 'Gangplank': 2032, 'Ornn': 2022, 'Braum': 2013, 'Twitch': 1999, 'Vladimir': 1939, 'Ziggs': 1932, 'Lissandra': 1771, 'Diana': 1749, 'DrMundo': 1674, 'Varus': 1674, 'Evelynn': 1647, 'Kalista': 1639, 'Swain': 1639, 'Vi': 1623, 'MonkeyKing': 1554, 'Bard': 1539, 'Rell': 1511, 'Rumble': 1508, 'Brand': 1501, 'Sion': 1475, 'Janna': 1466, 'Fizz': 1433, 'Tristana': 1430, 'Lillia': 1420, 'Nocturne': 1404, 'FiddleSticks': 1401, 'Mordekaiser': 1394, 'Heimerdinger': 1385, 'Gnar': 1350, 'Zyra': 1336, 'Chogath': 1335, 'Volibear': 1308, 'Singed': 1299, 'Nasus': 1288, 'Seraphine': 1239, 'Veigar': 1230, 'Amumu': 1212, 'Rammus': 1133, 'Velkoz': 1131, 'Kayle': 1109, 'Sejuani': 1087, 'Malzahar': 1086, 'Kled': 1080, 'Urgot': 1064, 'Azir': 968, 'Sivir': 962, 'Neeko': 914, 'Udyr': 882, 'Annie': 858, 'Sona': 855, 'KogMaw': 841, 'Olaf': 818, 'Quinn': 794, 'Illaoi': 776, 'Taric': 734, 'Ivern': 647, 'AurelionSol': 573, 'Yorick': 544, 'Shyvana': 493, 'Skarner': 337}, 'all_champs_ban_rate': {'ban_count': id\n",
      "Talon         36121\n",
      "Zed           28901\n",
      "Viktor        27397\n",
      "Leblanc       25440\n",
      "Blitzcrank    25230\n",
      "              ...  \n",
      "Urgot            45\n",
      "Sejuani          42\n",
      "Sivir            36\n",
      "Shyvana          31\n",
      "Sona             27\n",
      "Name: ban_count, Length: 157, dtype: int64}, 'top_champs': {'Talon': 36180, 'Viktor': 30809, 'Zed': 29064, 'Leblanc': 25502, 'Blitzcrank': 25240, 'Vayne': 24459, 'Irelia': 23162, 'Jayce': 23082, 'Graves': 22885, 'LeeSin': 20820, 'Yone': 20245, 'Leona': 19696, 'Vex': 12506, 'Fiora': 10227, 'Jax': 10102, 'Teemo': 10025, 'Thresh': 9738, 'Lulu': 9589, 'Yasuo': 9403, 'Xerath': 9359, 'Akali': 9114, 'Camille': 9092, 'Lucian': 8677, 'Samira': 8341, 'Morgana': 8026, 'Jinx': 7748, 'Yuumi': 7632, 'Nidalee': 7539, 'Katarina': 7496, 'Akshan': 7443, 'Caitlyn': 7427, 'Shaco': 7035, 'TahmKench': 6518, 'Poppy': 6377, 'Darius': 6375, 'Malphite': 5915, 'Aatrox': 5796, 'Sylas': 5602, 'Sett': 5476, 'Qiyana': 5356, 'Kaisa': 4947, 'Renekton': 4813, 'Elise': 4542, 'Kassadin': 4483, 'Karthus': 4383, 'XinZhao': 4257, 'Gwen': 3990, 'Pyke': 3872, 'Tryndamere': 3622, 'Ezreal': 3472, 'Gangplank': 3132, 'Kennen': 3010, 'RekSai': 2814, 'Lux': 2655, 'Rengar': 2577, 'Garen': 2573, 'Viego': 2475, 'Nautilus': 2461, 'Jhin': 2430, 'Gragas': 2384, 'Riven': 2102, 'Shen': 2068, 'Kindred': 1984, 'Ornn': 1977, 'DrMundo': 1648, 'TwistedFate': 1638, 'Draven': 1610, 'Zoe': 1595, 'Ekko': 1590, 'Karma': 1544, 'Ryze': 1449, 'Gnar': 1432, 'Mordekaiser': 1361, 'Nocturne': 1350, 'MonkeyKing': 1343, 'Warwick': 1307, 'Aphelios': 1277, 'MasterYi': 1271, 'Cassiopeia': 1240, 'Sion': 1220, 'Vladimir': 1188, 'Nasus': 1132, 'Heimerdinger': 1129, 'Trundle': 1128, 'Kled': 1127, 'Maokai': 1085, 'Kayn': 1079, 'Kayle': 1076, 'Urgot': 995, 'Volibear': 980, 'Anivia': 964, 'Quinn': 925, 'Zac': 908, 'Fizz': 881, 'Syndra': 879, 'Singed': 878, 'Rumble': 876, 'Pantheon': 869, 'Illaoi': 854, 'Alistar': 844, 'Corki': 794, 'Evelynn': 757, 'Chogath': 751, 'Nunu': 727, 'Ziggs': 697, 'Galio': 689, 'Nami': 661, 'Rell': 652, 'Xayah': 651, 'Zilean': 598, 'Yorick': 580, 'Hecarim': 556, 'Rammus': 554, 'Rakan': 477, 'Lillia': 453, 'Taliyah': 418, 'Khazix': 406, 'Senna': 393, 'Olaf': 380, 'Lissandra': 367, 'MissFortune': 344, 'Amumu': 342, 'JarvanIV': 339, 'Kalista': 333, 'Swain': 314, 'Malzahar': 301, 'Neeko': 296, 'Sejuani': 289, 'Ashe': 288, 'Twitch': 260, 'Brand': 219, 'Ahri': 209, 'Seraphine': 193, 'Soraka': 187, 'Vi': 175, 'Ivern': 161, 'Skarner': 160, 'Veigar': 148, 'Tristana': 146, 'Braum': 146, 'Diana': 143, 'Azir': 143, 'Zyra': 135, 'Shyvana': 133, 'Udyr': 127, 'Varus': 110, 'Velkoz': 102, 'KogMaw': 101, 'Taric': 91, 'Orianna': 87, 'AurelionSol': 87, 'Annie': 79, 'Bard': 64, 'Sivir': 38, 'Sona': 33}, 'jug_champs': {'Talon': 45519, 'LeeSin': 39899, 'Graves': 32117, 'Zed': 31751, 'Viktor': 27422, 'Leblanc': 25496, 'Blitzcrank': 25404, 'Vayne': 21972, 'Leona': 19715, 'Irelia': 16818, 'Nidalee': 15690, 'Yone': 14183, 'Vex': 12489, 'Jayce': 11391, 'Shaco': 9826, 'Thresh': 9799, 'Viego': 9692, 'XinZhao': 9663, 'Lulu': 9530, 'Xerath': 9428, 'Samira': 8320, 'Morgana': 8123, 'Teemo': 8044, 'Yasuo': 7982, 'Yuumi': 7849, 'Lucian': 7846, 'Jinx': 7752, 'Katarina': 7468, 'Poppy': 7398, 'Elise': 7359, 'Caitlyn': 7357, 'Qiyana': 6851, 'Karthus': 6397, 'Ekko': 6329, 'Jax': 6030, 'Kindred': 5950, 'RekSai': 5759, 'Akshan': 5674, 'Fiora': 5580, 'Kaisa': 4933, 'Kayn': 4709, 'Akali': 4426, 'Kassadin': 4340, 'TahmKench': 4052, 'Pyke': 3987, 'MasterYi': 3699, 'Ezreal': 3584, 'Camille': 3430, 'Hecarim': 3398, 'Darius': 3336, 'Sylas': 3273, 'Malphite': 3190, 'Nunu': 3183, 'JarvanIV': 2957, 'Zac': 2914, 'Khazix': 2820, 'Lux': 2768, 'Taliyah': 2526, 'Warwick': 2460, 'Nautilus': 2438, 'Jhin': 2418, 'Nocturne': 2264, 'Evelynn': 2223, 'Gwen': 1942, 'Sett': 1823, 'Renekton': 1771, 'Rengar': 1734, 'Tryndamere': 1686, 'TwistedFate': 1619, 'Zoe': 1587, 'Gragas': 1579, 'Rammus': 1519, 'Vi': 1509, 'Draven': 1394, 'Karma': 1373, 'Aatrox': 1312, 'Lillia': 1279, 'Aphelios': 1272, 'Diana': 1251, 'Gangplank': 1222, 'Trundle': 1194, 'Garen': 1002, 'Alistar': 965, 'Kennen': 898, 'Udyr': 879, 'Amumu': 864, 'Sejuani': 840, 'Anivia': 839, 'Olaf': 830, 'Syndra': 823, 'Galio': 816, 'Fizz': 712, 'Nami': 703, 'Ziggs': 695, 'Ivern': 671, 'Rell': 655, 'Pantheon': 651, 'Xayah': 649, 'Maokai': 601, 'Volibear': 599, 'Twitch': 578, 'Cassiopeia': 558, 'Zilean': 540, 'Corki': 530, 'Heimerdinger': 529, 'Ryze': 523, 'Rakan': 506, 'MonkeyKing': 494, 'Rumble': 423, 'Shyvana': 390, 'Senna': 388, 'MissFortune': 359, 'Singed': 318, 'Nasus': 316, 'Mordekaiser': 313, 'DrMundo': 306, 'Skarner': 285, 'Riven': 278, 'Ashe': 269, 'Quinn': 262, 'Lissandra': 258, 'Kled': 252, 'Vladimir': 246, 'Shen': 242, 'Swain': 232, 'Malzahar': 230, 'Brand': 221, 'Seraphine': 211, 'Neeko': 200, 'Soraka': 187, 'Ahri': 168, 'Zyra': 158, 'Chogath': 153, 'Illaoi': 150, 'Braum': 149, 'Ornn': 146, 'Sion': 144, 'Gnar': 142, 'Janna': 141, 'Kalista': 122, 'Bard': 120, 'Tristana': 111, 'Velkoz': 106, 'Veigar': 106, 'Taric': 101, 'Varus': 101, 'Urgot': 94, 'KogMaw': 89, 'Annie': 88, 'Orianna': 86, 'Kayle': 86, 'AurelionSol': 83, 'Yorick': 76, 'Azir': 70, 'Sona': 42, 'Sivir': 39}, 'mid_champs': {'Talon': 38154, 'Zed': 36663, 'Viktor': 34297, 'Leblanc': 32265, 'Blitzcrank': 25249, 'Vayne': 22099, 'Yone': 21244, 'Graves': 20863, 'LeeSin': 20715, 'Irelia': 20245, 'Leona': 19654, 'Vex': 18586, 'Yasuo': 14028, 'Jayce': 12974, 'Katarina': 11971, 'Xerath': 10983, 'Thresh': 9731, 'Lulu': 9585, 'Akali': 9538, 'Sylas': 9226, 'Qiyana': 8732, 'Lucian': 8556, 'Akshan': 8392, 'Samira': 8344, 'Morgana': 8210, 'Kassadin': 8178, 'Teemo': 8009, 'Jinx': 7755, 'Yuumi': 7635, 'Nidalee': 7471, 'Caitlyn': 7428, 'Shaco': 6934, 'TwistedFate': 6738, 'Jax': 5779, 'Fiora': 5644, 'Zoe': 5059, 'Kaisa': 5059, 'Poppy': 4683, 'Elise': 4537, 'Karthus': 4464, 'Lux': 4351, 'Syndra': 4264, 'Pyke': 4188, 'XinZhao': 4159, 'TahmKench': 4081, 'Corki': 3984, 'Malphite': 3746, 'Ezreal': 3661, 'Camille': 3571, 'Darius': 3288, 'Ahri': 3045, 'Ekko': 2963, 'RekSai': 2802, 'Galio': 2753, 'Ryze': 2680, 'Viego': 2502, 'Anivia': 2455, 'Jhin': 2448, 'Renekton': 2409, 'Nautilus': 2402, 'Orianna': 2242, 'Sett': 2239, 'Tryndamere': 2032, 'Kindred': 1977, 'Cassiopeia': 1936, 'Fizz': 1899, 'Lissandra': 1833, 'Aatrox': 1672, 'Gwen': 1567, 'Nunu': 1475, 'Draven': 1441, 'Karma': 1417, 'Gangplank': 1322, 'Nocturne': 1313, 'Pantheon': 1289, 'Aphelios': 1272, 'MasterYi': 1241, 'Vladimir': 1192, 'Malzahar': 1183, 'Garen': 1177, 'Kayn': 1016, 'Kennen': 997, 'Azir': 917, 'Ziggs': 881, 'Alistar': 831, 'Veigar': 751, 'Zilean': 725, 'Heimerdinger': 702, 'Evelynn': 685, 'Zac': 684, 'Annie': 680, 'Diana': 668, 'Nami': 665, 'Warwick': 664, 'Xayah': 662, 'Rumble': 659, 'Neeko': 658, 'Taliyah': 646, 'AurelionSol': 630, 'Maokai': 592, 'Singed': 553, 'Gragas': 519, 'Rammus': 518, 'Brand': 499, 'Hecarim': 489, 'Rakan': 486, 'Kled': 395, 'Khazix': 394, 'Riven': 378, 'MonkeyKing': 374, 'Senna': 368, 'MissFortune': 364, 'Twitch': 334, 'Swain': 332, 'Quinn': 327, 'Amumu': 325, 'Chogath': 306, 'Seraphine': 299, 'JarvanIV': 291, 'Mordekaiser': 269, 'Ashe': 266, 'Velkoz': 264, 'DrMundo': 251, 'Trundle': 234, 'Lillia': 233, 'Ornn': 227, 'Olaf': 218, 'Shen': 216, 'Nasus': 212, 'Zyra': 199, 'Varus': 193, 'Ivern': 190, 'Illaoi': 182, 'Volibear': 180, 'Sion': 180, 'Tristana': 179, 'Kalista': 172, 'Vi': 167, 'Gnar': 163, 'Soraka': 156, 'Braum': 142, 'KogMaw': 129, 'Kayle': 129, 'Janna': 113, 'Urgot': 91, 'Yorick': 85, 'Skarner': 81, 'Udyr': 76, 'Bard': 69, 'Taric': 68, 'Shyvana': 61, 'Sivir': 54, 'Sejuani': 52, 'Sona': 31}, 'adc_champs': {'Talon': 36130, 'Vayne': 29382, 'Zed': 28980, 'Viktor': 27525, 'Kaisa': 25503, 'Leblanc': 25453, 'Blitzcrank': 25247, 'Jinx': 22460, 'Ezreal': 20825, 'Graves': 20557, 'LeeSin': 20550, 'Leona': 19662, 'Jhin': 18508, 'Caitlyn': 17649, 'Irelia': 16917, 'Samira': 14462, 'Lucian': 14363, 'Yone': 14289, 'Vex': 12477, 'Jayce': 11376, 'Thresh': 9802, 'Xerath': 9796, 'Lulu': 9401, 'Yasuo': 9287, 'Morgana': 8008, 'Teemo': 7960, 'Yuumi': 7631, 'Nidalee': 7456, 'Katarina': 7435, 'Aphelios': 7003, 'Shaco': 6925, 'Akshan': 5739, 'Jax': 5701, 'Fiora': 5557, 'Qiyana': 5249, 'Poppy': 4578, 'Akali': 4382, 'Karthus': 4348, 'Kassadin': 4317, 'XinZhao': 4094, 'TahmKench': 4031, 'Pyke': 3887, 'Draven': 3570, 'Camille': 3375, 'Ashe': 3273, 'Darius': 3229, 'Sylas': 3125, 'Malphite': 3078, 'Lux': 2731, 'MissFortune': 2698, 'Xayah': 2695, 'Nautilus': 2388, 'Ziggs': 2286, 'Viego': 2239, 'Kindred': 2095, 'Sett': 1797, 'Renekton': 1750, 'Twitch': 1679, 'Tryndamere': 1641, 'Varus': 1616, 'TwistedFate': 1615, 'Zoe': 1589, 'Gwen': 1487, 'Kalista': 1481, 'Ekko': 1424, 'Tristana': 1315, 'Karma': 1307, 'Aatrox': 1268, 'Gangplank': 1224, 'Nocturne': 1178, 'MasterYi': 1076, 'Rengar': 1040, 'Kayn': 990, 'Syndra': 978, 'Cassiopeia': 959, 'Sivir': 955, 'Kennen': 896, 'Garen': 874, 'Anivia': 854, 'KogMaw': 846, 'Alistar': 829, 'Heimerdinger': 756, 'Swain': 724, 'Fizz': 693, 'Nunu': 690, 'Nami': 671, 'Galio': 655, 'Warwick': 645, 'Corki': 639, 'Maokai': 579, 'Senna': 571, 'Pantheon': 546, 'Zac': 534, 'Zilean': 527, 'Rammus': 507, 'Rakan': 475, 'Taliyah': 470, 'Ryze': 393, 'MonkeyKing': 282, 'Gragas': 280, 'Seraphine': 266, 'JarvanIV': 264, 'Vladimir': 262, 'Quinn': 256, 'Lissandra': 255, 'Kled': 239, 'Brand': 231, 'Chogath': 230, 'Malzahar': 229, 'DrMundo': 227, 'Mordekaiser': 226, 'Riven': 223, 'Neeko': 219, 'Olaf': 219, 'Veigar': 201, 'Trundle': 196, 'Lillia': 190, 'Singed': 187, 'Rumble': 186, 'Shen': 183, 'Ahri': 174, 'Volibear': 158, 'Illaoi': 152, 'Zyra': 144, 'Soraka': 144, 'Velkoz': 142, 'Braum': 142, 'Nasus': 139, 'Ornn': 135, 'Gnar': 135, 'Diana': 111, 'Janna': 104, 'Vi': 96, 'Annie': 83, 'Sion': 82, 'Azir': 81, 'Orianna': 81, 'AurelionSol': 80, 'Kayle': 77, 'Bard': 72, 'Taric': 71, 'Yorick': 68, 'Urgot': 58, 'Sejuani': 43, 'Sona': 35}, 'sup_champs': {'Talon': 36128, 'Blitzcrank': 35279, 'Zed': 28950, 'Viktor': 27432, 'Leona': 27301, 'Leblanc': 25679, 'Vayne': 22007, 'Thresh': 21856, 'LeeSin': 20701, 'Graves': 20528, 'Lulu': 20216, 'Irelia': 16802, 'Yuumi': 15252, 'Xerath': 14798, 'Yone': 14135, 'Vex': 13571, 'Morgana': 11430, 'Jayce': 11339, 'Lux': 9581, 'Pyke': 9517, 'Samira': 8343, 'Shaco': 8092, 'Teemo': 8079, 'Yasuo': 7979, 'Lucian': 7889, 'Jinx': 7834, 'Nidalee': 7523, 'Katarina': 7423, 'Caitlyn': 7404, 'Nautilus': 7369, 'Karma': 6639, 'Jax': 5715, 'Akshan': 5664, 'Fiora': 5560, 'Qiyana': 5323, 'Kaisa': 4963, 'Poppy': 4960, 'Elise': 4561, 'Akali': 4384, 'Alistar': 4344, 'Karthus': 4343, 'Kassadin': 4322, 'TahmKench': 4191, 'XinZhao': 4107, 'Rakan': 3947, 'Nami': 3708, 'Ezreal': 3583, 'Camille': 3508, 'Maokai': 3358, 'Sylas': 3333, 'Darius': 3241, 'Malphite': 3216, 'Soraka': 2932, 'RekSai': 2799, 'Jhin': 2477, 'Zilean': 2390, 'Sett': 2366, 'Senna': 2324, 'Viego': 2260, 'Rell': 2154, 'Braum': 2126, 'Kindred': 1946, 'Zoe': 1814, 'Galio': 1793, 'Pantheon': 1778, 'Renekton': 1747, 'Tryndamere': 1634, 'TwistedFate': 1631, 'Bard': 1529, 'Janna': 1516, 'Gwen': 1491, 'Ekko': 1481, 'Draven': 1407, 'Aatrox': 1326, 'Zyra': 1326, 'Aphelios': 1262, 'Anivia': 1251, 'Gangplank': 1221, 'Brand': 1200, 'Seraphine': 1184, 'Nocturne': 1182, 'Swain': 1113, 'MasterYi': 1075, 'Syndra': 1075, 'Gragas': 1058, 'Kennen': 1041, 'Rengar': 1006, 'Kayn': 988, 'Zac': 979, 'Amumu': 976, 'Velkoz': 927, 'Garen': 868, 'Sona': 848, 'Heimerdinger': 833, 'Ziggs': 814, 'Nunu': 797, 'Taliyah': 791, 'Shen': 782, 'MissFortune': 776, 'Taric': 717, 'Fizz': 699, 'Evelynn': 678, 'Warwick': 660, 'Xayah': 658, 'Trundle': 589, 'Cassiopeia': 565, 'Rammus': 546, 'Corki': 527, 'Ashe': 519, 'JarvanIV': 516, 'Neeko': 471, 'Veigar': 454, 'MonkeyKing': 420, 'Twitch': 408, 'Ryze': 387, 'Khazix': 365, 'Ahri': 320, 'Lissandra': 317, 'DrMundo': 308, 'Singed': 252, 'Quinn': 249, 'Vladimir': 244, 'Kled': 242, 'Rumble': 239, 'Mordekaiser': 239, 'Malzahar': 238, 'Ivern': 229, 'Riven': 227, 'Olaf': 221, 'Chogath': 200, 'Sion': 199, 'Lillia': 198, 'Annie': 188, 'Ornn': 186, 'Volibear': 176, 'Illaoi': 156, 'Gnar': 143, 'Nasus': 140, 'Vi': 130, 'Varus': 129, 'Kalista': 126, 'Diana': 125, 'Tristana': 114, 'KogMaw': 111, 'Orianna': 109, 'Azir': 96, 'Kayle': 84, 'AurelionSol': 83, 'Sejuani': 73, 'Udyr': 71, 'Skarner': 71, 'Yorick': 69, 'Sivir': 56, 'Urgot': 51, 'Shyvana': 33}}\n"
     ]
    }
   ],
   "source": [
    "print(output1)"
   ]
  },
  {
   "cell_type": "code",
   "execution_count": null,
   "id": "0d6a207e",
   "metadata": {
    "ExecuteTime": {
     "end_time": "2021-12-24T11:49:36.658452Z",
     "start_time": "2021-12-24T11:49:36.658452Z"
    }
   },
   "outputs": [],
   "source": [
    "import json\n",
    "\n",
    "with open('./test_json.json', 'r') as f1:\n",
    "    j1 = json.load(f1)\n",
    "    j1 = json.dumps(j1)\n",
    "    c = pd.read_csv('./champs.csv')\n",
    "    b1 = Board1(j1, c)\n",
    "    all_champs_win_rate = b1.all_champs_win_rate()['win'].apply(lambda x : int(x*10)).to_dict()\n",
    "    all_champs_pick_rate = b1.all_champs_pick_rate()\n",
    "    all_champs_ban_rate = b1.all_champs_ban_rate()\n",
    "    top_champs = b1.top_champs()\n",
    "    jug_champs = b1.jug_champs()\n",
    "    mid_champs = b1.mid_champs()\n",
    "    adc_champs = b1.adc_champs()\n",
    "    sup_champs = b1.sup_champs()"
   ]
  },
  {
   "cell_type": "markdown",
   "id": "7d745396",
   "metadata": {},
   "source": [
    "## png저장"
   ]
  },
  {
   "cell_type": "code",
   "execution_count": null,
   "id": "cea05847",
   "metadata": {
    "ExecuteTime": {
     "end_time": "2021-12-24T11:49:36.660466Z",
     "start_time": "2021-12-24T11:49:36.660466Z"
    }
   },
   "outputs": [],
   "source": [
    "import matplotlib.pyplot as plt\n",
    "from wordcloud import WordCloud\n",
    "\n",
    "wordcloud = WordCloud(font_path = './lib/fonts/AppleSDGothicNeoM.ttf ', background_color='white',colormap = \"Accent_r\").generate_from_frequencies(all_champs_win_rate) \n",
    "plt.axis('off') \n",
    "wordcloud.to_file('./deck/wc_win.png')\n",
    "\n",
    "wordcloud = WordCloud(font_path = './lib/fonts/AppleSDGothicNeoM.ttf ', background_color='white',colormap = \"Accent_r\").generate_from_frequencies(all_champs_pick_rate) \n",
    "plt.axis('off') \n",
    "wordcloud.to_file('./deck/wc_pick.png')\n",
    "\n",
    "wordcloud = WordCloud(font_path = './lib/fonts/AppleSDGothicNeoM.ttf ', background_color='white',colormap = \"Accent_r\").generate_from_frequencies(top_champs) \n",
    "plt.axis('off')\n",
    "wordcloud.to_file('./deck/wc_top.png')\n",
    "\n",
    "wordcloud = WordCloud(font_path = './lib/fonts/AppleSDGothicNeoM.ttf ', background_color='white',colormap = \"Accent_r\").generate_from_frequencies(jug_champs)\n",
    "plt.axis('off')\n",
    "wordcloud.to_file('./deck/wc_jug.png')\n",
    "\n",
    "wordcloud = WordCloud(font_path = './lib/fonts/AppleSDGothicNeoM.ttf ', background_color='white',colormap = \"Accent_r\").generate_from_frequencies(mid_champs) \n",
    "plt.axis('off')\n",
    "wordcloud.to_file('./deck/wc_mid.png')\n",
    "\n",
    "wordcloud = WordCloud(font_path = './lib/fonts/AppleSDGothicNeoM.ttf ', background_color='white',colormap = \"Accent_r\").generate_from_frequencies(adc_champs)\n",
    "plt.axis('off')\n",
    "wordcloud.to_file('./deck/wc_adc.png')\n",
    "\n",
    "wordcloud = WordCloud(font_path = './lib/fonts/AppleSDGothicNeoM.ttf ', background_color='white',colormap = \"Accent_r\").generate_from_frequencies(sup_champs)\n",
    "plt.axis('off')\n",
    "wordcloud.to_file('./deck/wc_sup.png')"
   ]
  },
  {
   "cell_type": "code",
   "execution_count": null,
   "id": "b766f101",
   "metadata": {
    "ExecuteTime": {
     "end_time": "2021-12-24T11:49:36.662454Z",
     "start_time": "2021-12-24T11:49:36.662454Z"
    }
   },
   "outputs": [],
   "source": [
    "from PIL import Image\n",
    "win_df = pd.DataFrame.from_dict(all_champs_win_rate, orient='index').sort_values(by=[0],ascending=False)[:3]\n",
    "for i,champ in enumerate(win_df.index):\n",
    "    r = requests.get(url+champ+'.png')\n",
    "    pil_im = Image.open(BytesIO(r.content))\n",
    "    pil_im.save(\"./deck/\"+str(i)+\"_win.png\")\n",
    "    \n",
    "top_df = pd.DataFrame.from_dict(btop_champs, orient='index').sort_values(by=[0],ascending=False)[:3]\n",
    "for i,champ in enumerate(top_df.index):\n",
    "    r = requests.get(url+champ+'.png')\n",
    "    pil_im = Image.open(BytesIO(r.content))\n",
    "    pil_im.save(\"./deck/\"+str(i)+\"_top.png\")\n",
    "    \n",
    "jug_df = pd.DataFrame.from_dict(jug_champs, orient='index').sort_values(by=[0],ascending=False)[:3]\n",
    "for i,champ in enumerate(jug_df.index):\n",
    "    r = requests.get(url+champ+'.png')\n",
    "    pil_im = Image.open(BytesIO(r.content))\n",
    "    pil_im.save(\"./deck/\"+str(i)+\"_jug.png\")\n",
    "    \n",
    "mid_df = pd.DataFrame.from_dict(mid_champs, orient='index').sort_values(by=[0],ascending=False)[:3]\n",
    "for i,champ in enumerate(mid_df.index):\n",
    "    r = requests.get(url+champ+'.png')\n",
    "    pil_im = Image.open(BytesIO(r.content))\n",
    "    pil_im.save(\"./deck/\"+str(i)+\"_mid.png\")\n",
    "    \n",
    "adc_df = pd.DataFrame.from_dict(adc_champs, orient='index').sort_values(by=[0],ascending=False)[:3]\n",
    "for i,champ in enumerate(adc_df.index):\n",
    "    r = requests.get(url+champ+'.png')\n",
    "    pil_im = Image.open(BytesIO(r.content))\n",
    "    pil_im.save(\"./deck/\"+str(i)+\"_adc.png\")\n",
    "    \n",
    "sup_df = pd.DataFrame.from_dict(sup_champs, orient='index').sort_values(by=[0],ascending=False)[:3]\n",
    "for i,champ in enumerate(sup_df.index):\n",
    "    r = requests.get(url+champ+'.png')\n",
    "    pil_im = Image.open(BytesIO(r.content))\n",
    "    pil_im.save(\"./deck/\"+str(i)+\"_sup.png\")"
   ]
  },
  {
   "cell_type": "markdown",
   "id": "761da0be",
   "metadata": {},
   "source": [
    "# 화면2. 프로게이머처럼 생각해보기"
   ]
  },
  {
   "cell_type": "code",
   "execution_count": 4,
   "id": "4c988aca",
   "metadata": {
    "ExecuteTime": {
     "end_time": "2021-12-24T11:49:38.551077Z",
     "start_time": "2021-12-24T11:49:36.678457Z"
    }
   },
   "outputs": [],
   "source": [
    "import pandas as pd\n",
    "import numpy as np\n",
    "from pandas import json_normalize\n",
    "from sklearn.tree import export_graphviz\n",
    "from sklearn.model_selection import train_test_split\n",
    "from sklearn.tree import DecisionTreeClassifier\n",
    "import os\n",
    "\n",
    "class Board2:\n",
    "    def __init__(self, json):\n",
    "        df = pd.DataFrame()\n",
    "        json_df = pd.read_json(json)\n",
    "        for i in json_df.index:\n",
    "            temp_df = json_normalize(json_df.loc[i, 'teams'])\n",
    "            temp_df['gameId'] = json_df.loc[i, 'gameId']\n",
    "            temp_df['gameDuration'] = json_df.loc[i, 'gameDuration']\n",
    "            df = pd.concat([df, temp_df]).reset_index(drop=True)\n",
    "        df = df[['objectives.champion.first','objectives.dragon.first','objectives.riftHerald.first',\n",
    "                'objectives.tower.first','objectives.baron.first','objectives.inhibitor.first','win']]\n",
    "        df = df.astype(int)  # 0 = False, 1 = True\n",
    "        self.df = df\n",
    "    \n",
    "    def decision_tree(self):\n",
    "        dt_data = self.df\n",
    "        \n",
    "        features = dt_data[dt_data.columns[:-1]]\n",
    "        target = dt_data[dt_data.columns[-1]]\n",
    "\n",
    "        train_features, test_features, train_target, test_target = train_test_split(\n",
    "            features, target, test_size=0.2, random_state=2020, stratify=target)\n",
    "\n",
    "        best_tree_for_graph = DecisionTreeClassifier(criterion='gini', max_depth=5, min_samples_leaf=10,\n",
    "                                                     random_state=2022) # 항목 6개이므로 5개 고정\n",
    "\n",
    "        best_tree_for_graph.fit(train_features, train_target)\n",
    "\n",
    "        feature_names = train_features.columns.tolist()\n",
    "        target_name = np.array(['Lose', 'Win'])\n",
    "\n",
    "        dot_data_best = export_graphviz(best_tree_for_graph,\n",
    "                                        filled=True,\n",
    "                                        rounded=True,\n",
    "                                        class_names=target_name,\n",
    "                                        feature_names=feature_names,\n",
    "                                        out_file=None)\n",
    "\n",
    "        return dot_data_best"
   ]
  },
  {
   "cell_type": "markdown",
   "id": "abecad7b",
   "metadata": {},
   "source": [
    "## png저장"
   ]
  },
  {
   "cell_type": "code",
   "execution_count": 6,
   "id": "5598e7da",
   "metadata": {
    "ExecuteTime": {
     "end_time": "2021-12-24T11:49:38.789279Z",
     "start_time": "2021-12-24T11:49:38.762272Z"
    }
   },
   "outputs": [
    {
     "data": {
      "text/plain": [
       "\"\\nwith open('./test_json.json', 'r', encoding='cp949') as f1:\\n    j1 = json.load(f1)\\n    j1 = json.dumps(j1)\\n    dot = Board2(j1).decision_tree()\\ngraph = graph_from_dot_data(dot)\\ndisplay(graphviz.Source(graph))\\n\""
      ]
     },
     "execution_count": 6,
     "metadata": {},
     "output_type": "execute_result"
    }
   ],
   "source": [
    "'''\n",
    "import json\n",
    "import graphviz\n",
    "from pydotplus import graph_from_dot_data\n",
    "from IPython.display import Image # CART Tree 그림\n",
    "import pydotplus\n",
    "import os\n",
    "os.environ['PATH'] += os.pathsep + \"C:/Program Files/Graphviz 2.44.1/bin/\"\n",
    "\n",
    "with open('./test_json.json', 'r', encoding='cp949') as f1:\n",
    "    j1 = json.load(f1)\n",
    "    j1 = json.dumps(j1)\n",
    "    dot = Board2(j1).decision_tree()\n",
    "graph = graph_from_dot_data(dot)\n",
    "display(graphviz.Source(graph))\n",
    "'''"
   ]
  },
  {
   "cell_type": "markdown",
   "id": "b207def9",
   "metadata": {},
   "source": [
    "# 화면3. 뇌피셜을 검증해보자"
   ]
  },
  {
   "cell_type": "code",
   "execution_count": 7,
   "id": "7156df7a",
   "metadata": {
    "ExecuteTime": {
     "end_time": "2021-12-24T11:49:38.837308Z",
     "start_time": "2021-12-24T11:49:38.794282Z"
    }
   },
   "outputs": [],
   "source": [
    "class Board3:\n",
    "    def __init__(self, json):\n",
    "        df = pd.DataFrame()\n",
    "        json_df = pd.read_json(json)\n",
    "        for i in json_df.index:\n",
    "            participant_df = json_normalize(json_df.loc[i,'participants'])\n",
    "            temp_df = participant_df[['totalDamageDealt','championName', 'damageDealtToBuildings','kills','goldEarned','gameEndedInEarlySurrender','teamEarlySurrendered','visionScore','pentaKills','objectivesStolen', 'totalMinionsKilled']]\n",
    "            temp_df['gameDuration'] = json_df.loc[i,'gameDuration']\n",
    "            df = pd.concat([df,temp_df]).reset_index(drop=True) \n",
    "            self.dataframe  = df\n",
    "    def get_gameduration_top3(self):\n",
    "        df = self.dataframe\n",
    "        series  = df.groupby(['championName'])['gameDuration'].mean().sort_values(ascending=False)[:3]\n",
    "        names = list(series.index)\n",
    "        return names\n",
    "    def get_damageturret_top3(self):\n",
    "        df = self.dataframe\n",
    "        series = df.groupby(['championName'])['damageDealtToBuildings'].mean().sort_values(ascending=False)[:3]\n",
    "        names = list(series.index)\n",
    "        return names\n",
    "    def get_efficiency_top3(self):\n",
    "        df = self.dataframe\n",
    "        df['efficiency'] = df['totalDamageDealt']/df['goldEarned']\n",
    "        series = df.groupby(['championName'])['efficiency'].mean().sort_values(ascending=False)[:3]\n",
    "        names = list(series.index)\n",
    "        return names\n",
    "    def get_surrender_top3(self):\n",
    "        df = self.dataframe\n",
    "        for i in df.index:\n",
    "            df.loc[i,'Surrended'] = 0\n",
    "            df.loc[i,'demandedSurrender'] = 0\n",
    "            if df.loc[i,'gameEndedInEarlySurrender'] == True:\n",
    "                if df.loc[i,'teamEarlySurrendered'] ==True:\n",
    "                    df.loc[i,'Surrended'] = 1\n",
    "                else : \n",
    "                    df.loc[i,'demandedSurrender'] = 1\n",
    "        \n",
    "        names1 = (df.groupby(['championName'])['Surrended'].sum()/df.groupby(['championName'])['Surrended'].count()).sort_values(ascending=False)[:3].index\n",
    "        names2 = (df.groupby(['championName'])['demandedSurrender'].sum()/df.groupby(['championName'])['Surrended'].count()).sort_values(ascending=False)[:3].index\n",
    "        return list(names1), list(names2)\n",
    "    def get_visionscore_top3(self):\n",
    "        df = self.dataframe\n",
    "        series = df.groupby(['championName'])['visionScore'].mean().sort_values(ascending=False)[:3]\n",
    "        names = list(series.index)\n",
    "        return names \n",
    "    def get_pentakills_top3(self):\n",
    "        df = self.dataframe\n",
    "        series = df.groupby(['championName'])['pentaKills'].mean().sort_values(ascending=False)[:3]\n",
    "        names = list(series.index)\n",
    "        return names\n",
    "    def get_objectivesstolen_top3(self):\n",
    "        df = self.dataframe\n",
    "        series = df.groupby(['championName'])['objectivesStolen'].mean().sort_values(ascending=False)[:3]\n",
    "        names = list(series.index)\n",
    "        return names\n",
    "    def get_objectivesstolen_top3(self):\n",
    "        df = self.dataframe\n",
    "        series = df.groupby(['championName'])['objectivesStolen'].mean().sort_values(ascending=False)[:3]\n",
    "        names = list(series.index)\n",
    "        return names\n",
    "    def get_minionskilled_top3(self):\n",
    "        df = self.dataframe\n",
    "        series = df.groupby(['championName'])['totalMinionsKilled'].mean().sort_values(ascending=False)[:3]\n",
    "        names = list(series.index)\n",
    "        return names "
   ]
  },
  {
   "cell_type": "code",
   "execution_count": 8,
   "id": "a3acec58",
   "metadata": {
    "ExecuteTime": {
     "end_time": "2021-12-24T11:49:40.622106Z",
     "start_time": "2021-12-24T11:49:38.840289Z"
    }
   },
   "outputs": [
    {
     "name": "stderr",
     "output_type": "stream",
     "text": [
      "C:\\WINDOWS\\TEMP/ipykernel_12796/3769937462.py:8: SettingWithCopyWarning: \n",
      "A value is trying to be set on a copy of a slice from a DataFrame.\n",
      "Try using .loc[row_indexer,col_indexer] = value instead\n",
      "\n",
      "See the caveats in the documentation: https://pandas.pydata.org/pandas-docs/stable/user_guide/indexing.html#returning-a-view-versus-a-copy\n",
      "  temp_df['gameDuration'] = json_df.loc[i,'gameDuration']\n"
     ]
    }
   ],
   "source": [
    "import json\n",
    "with open('./test_json.json', 'r') as f:\n",
    "    j = json.load(f)\n",
    "    j = json.dumps(j)\n",
    "    b = Board3(j)\n",
    "    gameduration = b.get_gameduration_top3()\n",
    "    damageturret = b.get_damageturret_top3()\n",
    "    efficiency = b.get_efficiency_top3()\n",
    "    x, y = b.get_surrender_top3()\n",
    "    visionscore = b.get_visionscore_top3()\n",
    "    pentakills = b.get_pentakills_top3()\n",
    "    objectivesstolen = b.get_objectivesstolen_top3()\n",
    "    minionskilled = b.get_minionskilled_top3()"
   ]
  },
  {
   "cell_type": "markdown",
   "id": "752cee2a",
   "metadata": {},
   "source": [
    "## png저장"
   ]
  },
  {
   "cell_type": "code",
   "execution_count": 13,
   "id": "da3df49a",
   "metadata": {
    "ExecuteTime": {
     "end_time": "2021-12-24T11:53:37.701408Z",
     "start_time": "2021-12-24T11:53:36.680584Z"
    }
   },
   "outputs": [],
   "source": [
    "from PIL import Image\n",
    "import numpy as np\n",
    "from io import BytesIO\n",
    "import matplotlib.pyplot as plt\n",
    "import requests\n",
    "url = 'http://ddragon.leagueoflegends.com/cdn/11.24.1/img/champion/'\n",
    "\n",
    "for i,champ in enumerate(gameduration):\n",
    "    r = requests.get(url+champ+'.png')\n",
    "    pil_im = Image.open(BytesIO(r.content))\n",
    "    pil_im.save(\"./deck/\"+str(i)+\"_gameduration.png\")\n",
    "    \n",
    "for i,champ in enumerate(damageturret):\n",
    "    r = requests.get(url+champ+'.png')\n",
    "    pil_im = Image.open(BytesIO(r.content))\n",
    "    pil_im.save(\"./deck/\"+str(i)+\"_damageturret.png\")\n",
    "\n",
    "for i,champ in enumerate(efficiency):\n",
    "    r = requests.get(url+champ+'.png')\n",
    "    pil_im = Image.open(BytesIO(r.content))\n",
    "    pil_im.save(\"./deck/\"+str(i)+\"_efficiency.png\")\n",
    "                         \n",
    "for i,champ in enumerate(x):\n",
    "    r = requests.get(url+champ+'.png')\n",
    "    pil_im = Image.open(BytesIO(r.content))\n",
    "    pil_im.save(\"./deck/\"+str(i)+\"_surrender.png\")\n",
    "        \n",
    "for i,champ in enumerate(y):\n",
    "    r = requests.get(url+champ+'.png')\n",
    "    pil_im = Image.open(BytesIO(r.content))\n",
    "    pil_im.save(\"./deck/\"+str(i)+\"_getsurrender.png\")\n",
    "    \n",
    "for i,champ in enumerate(visionscore):\n",
    "    r = requests.get(url+champ+'.png')\n",
    "    pil_im = Image.open(BytesIO(r.content))\n",
    "    pil_im.save(\"./deck/\"+str(i)+\"_visionscore.png\")\n",
    "                \n",
    "for i,champ in enumerate(pentakills):\n",
    "    r = requests.get(url+champ+'.png')\n",
    "    pil_im = Image.open(BytesIO(r.content))\n",
    "    pil_im.save(\"./deck/\"+str(i)+\"_pentakills.png\")\n",
    "                         \n",
    "for i,champ in enumerate(objectivesstolen):\n",
    "    r = requests.get(url+champ+'.png')\n",
    "    pil_im = Image.open(BytesIO(r.content))\n",
    "    pil_im.save(\"./deck/\"+str(i)+\"_objectivesstolen.png\")  \n",
    "    \n",
    "for i,champ in enumerate(minionskilled):\n",
    "    r = requests.get(url+champ+'.png')\n",
    "    pil_im = Image.open(BytesIO(r.content))\n",
    "    pil_im.save(\"./deck/\"+str(i)+\"_minionskilled.png\")            "
   ]
  }
 ],
 "metadata": {
  "kernelspec": {
   "display_name": "Python 3 (ipykernel)",
   "language": "python",
   "name": "python3"
  },
  "language_info": {
   "codemirror_mode": {
    "name": "ipython",
    "version": 3
   },
   "file_extension": ".py",
   "mimetype": "text/x-python",
   "name": "python",
   "nbconvert_exporter": "python",
   "pygments_lexer": "ipython3",
   "version": "3.8.8"
  },
  "toc": {
   "base_numbering": 1,
   "nav_menu": {},
   "number_sections": true,
   "sideBar": true,
   "skip_h1_title": false,
   "title_cell": "Table of Contents",
   "title_sidebar": "Contents",
   "toc_cell": false,
   "toc_position": {
    "height": "calc(100% - 180px)",
    "left": "10px",
    "top": "150px",
    "width": "165px"
   },
   "toc_section_display": true,
   "toc_window_display": true
  }
 },
 "nbformat": 4,
 "nbformat_minor": 5
}
