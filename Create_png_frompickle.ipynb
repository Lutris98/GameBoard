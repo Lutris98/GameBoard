{
 "cells": [
  {
   "cell_type": "markdown",
   "id": "21835366",
   "metadata": {},
   "source": [
    "# 화면1. 라인별 트렌드 확인해보기"
   ]
  },
  {
   "cell_type": "code",
   "execution_count": 159,
   "id": "d30f82a3",
   "metadata": {
    "ExecuteTime": {
     "end_time": "2021-12-24T14:05:02.485112Z",
     "start_time": "2021-12-24T14:05:02.477877Z"
    }
   },
   "outputs": [],
   "source": [
    "import pickle\n",
    "\n",
    "with open('output1.pickle', 'rb') as fr:\n",
    "    output1 = pickle.load(fr)"
   ]
  },
  {
   "cell_type": "code",
   "execution_count": 160,
   "id": "0d6a207e",
   "metadata": {
    "ExecuteTime": {
     "end_time": "2021-12-24T14:05:04.988951Z",
     "start_time": "2021-12-24T14:05:04.974395Z"
    }
   },
   "outputs": [],
   "source": [
    "all_champs_win_rate = output1['all_champs_win_rate']['win'].apply(lambda x : int(x*100)).to_dict()\n",
    "all_champs_pick_rate = output1['all_champs_pick_rate']\n",
    "all_champs_ban_rate = output1['all_champs_ban_rate']\n",
    "top_champs = output1['top_champs']\n",
    "jug_champs = output1['jug_champs']\n",
    "mid_champs = output1['mid_champs']\n",
    "adc_champs = output1['adc_champs']\n",
    "sup_champs = output1['sup_champs']"
   ]
  },
  {
   "cell_type": "code",
   "execution_count": 161,
   "id": "055b4933",
   "metadata": {
    "ExecuteTime": {
     "end_time": "2021-12-24T14:05:06.481917Z",
     "start_time": "2021-12-24T14:05:06.464833Z"
    }
   },
   "outputs": [],
   "source": [
    "jug_champs['LeeSin'] = jug_champs['LeeSin'][0]\n",
    "for i in ['Kaisa', 'Ezreal','Jhin','Jinx']:\n",
    "    adc_champs[i] = adc_champs[i][0]"
   ]
  },
  {
   "cell_type": "code",
   "execution_count": 162,
   "id": "cea05847",
   "metadata": {
    "ExecuteTime": {
     "end_time": "2021-12-24T14:05:15.186226Z",
     "start_time": "2021-12-24T14:05:08.982812Z"
    }
   },
   "outputs": [
    {
     "data": {
      "text/plain": [
       "<wordcloud.wordcloud.WordCloud at 0x1c11b5cc7f0>"
      ]
     },
     "execution_count": 162,
     "metadata": {},
     "output_type": "execute_result"
    },
    {
     "data": {
      "image/png": "[encoded data removed]",
      "text/plain": [
       "<Figure size 432x288 with 1 Axes>"
      ]
     },
     "metadata": {
      "needs_background": "light"
     },
     "output_type": "display_data"
    }
   ],
   "source": [
    "import matplotlib.pyplot as plt\n",
    "from wordcloud import WordCloud\n",
    "\n",
    "wordcloud = WordCloud(font_path = './lib/fonts/AppleSDGothicNeoM.ttf ', background_color='white',colormap = \"Accent_r\").generate_from_frequencies(all_champs_win_rate) \n",
    "plt.axis('off') \n",
    "wordcloud.to_file('./deck/wc_win.png')\n",
    "\n",
    "wordcloud = WordCloud(font_path = './lib/fonts/AppleSDGothicNeoM.ttf ', background_color='white',colormap = \"Accent_r\").generate_from_frequencies(all_champs_pick_rate) \n",
    "plt.axis('off') \n",
    "wordcloud.to_file('./deck/wc_pick.png')\n",
    "\n",
    "wordcloud = WordCloud(font_path = './lib/fonts/AppleSDGothicNeoM.ttf ', background_color='white',colormap = \"Accent_r\").generate_from_frequencies(top_champs) \n",
    "plt.axis('off')\n",
    "wordcloud.to_file('./deck/wc_top.png')\n",
    "\n",
    "wordcloud = WordCloud(font_path = './lib/fonts/AppleSDGothicNeoM.ttf ', background_color='white',colormap = \"Accent_r\").generate_from_frequencies(jug_champs)\n",
    "plt.axis('off')\n",
    "wordcloud.to_file('./deck/wc_jug.png')\n",
    "\n",
    "wordcloud = WordCloud(font_path = './lib/fonts/AppleSDGothicNeoM.ttf ', background_color='white',colormap = \"Accent_r\").generate_from_frequencies(mid_champs) \n",
    "plt.axis('off')\n",
    "wordcloud.to_file('./deck/wc_mid.png')\n",
    "\n",
    "wordcloud = WordCloud(font_path = './lib/fonts/AppleSDGothicNeoM.ttf ', background_color='white',colormap = \"Accent_r\").generate_from_frequencies(adc_champs)\n",
    "plt.axis('off')\n",
    "wordcloud.to_file('./deck/wc_adc.png')\n",
    "\n",
    "wordcloud = WordCloud(font_path = './lib/fonts/AppleSDGothicNeoM.ttf ', background_color='white',colormap = \"Accent_r\").generate_from_frequencies(sup_champs)\n",
    "plt.axis('off')\n",
    "wordcloud.to_file('./deck/wc_sup.png')"
   ]
  },
  {
   "cell_type": "code",
   "execution_count": 163,
   "id": "19ef760e",
   "metadata": {
    "ExecuteTime": {
     "end_time": "2021-12-24T14:05:18.581451Z",
     "start_time": "2021-12-24T14:05:18.116575Z"
    }
   },
   "outputs": [],
   "source": [
    "from PIL import Image\n",
    "from io import BytesIO\n",
    "import requests\n",
    "\n",
    "url = 'http://ddragon.leagueoflegends.com/cdn/11.24.1/img/champion/'\n",
    "\n",
    "win_df = pd.DataFrame.from_dict(all_champs_win_rate, orient='index').sort_values(by=[0],ascending=False)[:3]\n",
    "for i,champ in enumerate(win_df.index):\n",
    "    r = requests.get(url+champ+'.png')\n",
    "    pil_im = Image.open(BytesIO(r.content))\n",
    "    pil_im.save(\"./deck/\"+str(i)+\"_win.png\")\n",
    "    \n",
    "top_df = pd.DataFrame.from_dict(top_champs, orient='index').sort_values(by=[0],ascending=False)[:3]\n",
    "for i,champ in enumerate(top_df.index):\n",
    "    r = requests.get(url+champ+'.png')\n",
    "    pil_im = Image.open(BytesIO(r.content))\n",
    "    pil_im.save(\"./deck/\"+str(i)+\"_top.png\")\n",
    "    \n",
    "jug_df = pd.DataFrame.from_dict(jug_champs, orient='index').sort_values(by=[0],ascending=False)[:3]\n",
    "for i,champ in enumerate(jug_df.index):\n",
    "    r = requests.get(url+champ+'.png')\n",
    "    pil_im = Image.open(BytesIO(r.content))\n",
    "    pil_im.save(\"./deck/\"+str(i)+\"_jug.png\")\n",
    "    \n",
    "mid_df = pd.DataFrame.from_dict(mid_champs, orient='index').sort_values(by=[0],ascending=False)[:3]\n",
    "for i,champ in enumerate(mid_df.index):\n",
    "    r = requests.get(url+champ+'.png')\n",
    "    pil_im = Image.open(BytesIO(r.content))\n",
    "    pil_im.save(\"./deck/\"+str(i)+\"_mid.png\")\n",
    "    \n",
    "adc_df = pd.DataFrame.from_dict(adc_champs, orient='index').sort_values(by=[0],ascending=False)[:3]\n",
    "for i,champ in enumerate(adc_df.index):\n",
    "    r = requests.get(url+champ+'.png')\n",
    "    pil_im = Image.open(BytesIO(r.content))\n",
    "    pil_im.save(\"./deck/\"+str(i)+\"_adc.png\")\n",
    "    \n",
    "sup_df = pd.DataFrame.from_dict(sup_champs, orient='index').sort_values(by=[0],ascending=False)[:3]\n",
    "for i,champ in enumerate(sup_df.index):\n",
    "    r = requests.get(url+champ+'.png')\n",
    "    pil_im = Image.open(BytesIO(r.content))\n",
    "    pil_im.save(\"./deck/\"+str(i)+\"_sup.png\")"
   ]
  },
  {
   "cell_type": "code",
   "execution_count": 165,
   "id": "e7db02d3",
   "metadata": {
    "ExecuteTime": {
     "end_time": "2021-12-24T14:05:42.417278Z",
     "start_time": "2021-12-24T14:05:42.406861Z"
    }
   },
   "outputs": [
    {
     "data": {
      "text/html": [
       "<div>\n",
       "<style scoped>\n",
       "    .dataframe tbody tr th:only-of-type {\n",
       "        vertical-align: middle;\n",
       "    }\n",
       "\n",
       "    .dataframe tbody tr th {\n",
       "        vertical-align: top;\n",
       "    }\n",
       "\n",
       "    .dataframe thead th {\n",
       "        text-align: right;\n",
       "    }\n",
       "</style>\n",
       "<table border=\"1\" class=\"dataframe\">\n",
       "  <thead>\n",
       "    <tr style=\"text-align: right;\">\n",
       "      <th></th>\n",
       "      <th>0</th>\n",
       "    </tr>\n",
       "  </thead>\n",
       "  <tbody>\n",
       "    <tr>\n",
       "      <th>Tryndamere</th>\n",
       "      <td>55</td>\n",
       "    </tr>\n",
       "    <tr>\n",
       "      <th>Velkoz</th>\n",
       "      <td>54</td>\n",
       "    </tr>\n",
       "    <tr>\n",
       "      <th>Lissandra</th>\n",
       "      <td>54</td>\n",
       "    </tr>\n",
       "    <tr>\n",
       "      <th>FiddleSticks</th>\n",
       "      <td>54</td>\n",
       "    </tr>\n",
       "    <tr>\n",
       "      <th>Rell</th>\n",
       "      <td>53</td>\n",
       "    </tr>\n",
       "    <tr>\n",
       "      <th>...</th>\n",
       "      <td>...</td>\n",
       "    </tr>\n",
       "    <tr>\n",
       "      <th>Illaoi</th>\n",
       "      <td>45</td>\n",
       "    </tr>\n",
       "    <tr>\n",
       "      <th>Ryze</th>\n",
       "      <td>45</td>\n",
       "    </tr>\n",
       "    <tr>\n",
       "      <th>Taric</th>\n",
       "      <td>45</td>\n",
       "    </tr>\n",
       "    <tr>\n",
       "      <th>Nasus</th>\n",
       "      <td>44</td>\n",
       "    </tr>\n",
       "    <tr>\n",
       "      <th>Ivern</th>\n",
       "      <td>44</td>\n",
       "    </tr>\n",
       "  </tbody>\n",
       "</table>\n",
       "<p>157 rows × 1 columns</p>\n",
       "</div>"
      ],
      "text/plain": [
       "               0\n",
       "Tryndamere    55\n",
       "Velkoz        54\n",
       "Lissandra     54\n",
       "FiddleSticks  54\n",
       "Rell          53\n",
       "...           ..\n",
       "Illaoi        45\n",
       "Ryze          45\n",
       "Taric         45\n",
       "Nasus         44\n",
       "Ivern         44\n",
       "\n",
       "[157 rows x 1 columns]"
      ]
     },
     "execution_count": 165,
     "metadata": {},
     "output_type": "execute_result"
    }
   ],
   "source": [
    "pd.set_option.row\n",
    "win_df = pd.DataFrame.from_dict(all_champs_win_rate, orient='index').sort_values(by=[0],ascending=False)\n",
    "win_df"
   ]
  },
  {
   "cell_type": "markdown",
   "id": "761da0be",
   "metadata": {},
   "source": [
    "# 화면2. 프로게이머처럼 생각해보기"
   ]
  },
  {
   "cell_type": "code",
   "execution_count": 98,
   "id": "496c1fd8",
   "metadata": {
    "ExecuteTime": {
     "end_time": "2021-12-24T13:44:49.452189Z",
     "start_time": "2021-12-24T13:44:49.434272Z"
    },
    "scrolled": true
   },
   "outputs": [
    {
     "name": "stdout",
     "output_type": "stream",
     "text": [
      "{'decision_tree': 'digraph Tree {\\nnode [shape=box, style=\"filled, rounded\", color=\"black\", fontname=helvetica] ;\\nedge [fontname=helvetica] ;\\n0 [label=\"objectives.inhibitor.first <= 0.5\\\\ngini = 0.5\\\\nsamples = 105056\\\\nvalue = [52530, 52526]\\\\nclass = Lose\", fillcolor=\"#ffffff\"] ;\\n1 [label=\"objectives.tower.first <= 0.5\\\\ngini = 0.374\\\\nsamples = 65385\\\\nvalue = [49104, 16281]\\\\nclass = Lose\", fillcolor=\"#eeab7b\"] ;\\n0 -> 1 [labeldistance=2.5, labelangle=45, headlabel=\"True\"] ;\\n2 [label=\"objectives.baron.first <= 0.5\\\\ngini = 0.215\\\\nsamples = 42040\\\\nvalue = [36889, 5151]\\\\nclass = Lose\", fillcolor=\"#e99355\"] ;\\n1 -> 2 ;\\n3 [label=\"objectives.dragon.first <= 0.5\\\\ngini = 0.154\\\\nsamples = 37463\\\\nvalue = [34307, 3156]\\\\nclass = Lose\", fillcolor=\"#e78d4b\"] ;\\n2 -> 3 ;\\n4 [label=\"objectives.champion.first <= 0.5\\\\ngini = 0.113\\\\nsamples = 24521\\\\nvalue = [23045, 1476]\\\\nclass = Lose\", fillcolor=\"#e78946\"] ;\\n3 -> 4 ;\\n5 [label=\"gini = 0.089\\\\nsamples = 15994\\\\nvalue = [15246, 748]\\\\nclass = Lose\", fillcolor=\"#e68743\"] ;\\n4 -> 5 ;\\n6 [label=\"gini = 0.156\\\\nsamples = 8527\\\\nvalue = [7799, 728]\\\\nclass = Lose\", fillcolor=\"#e78d4b\"] ;\\n4 -> 6 ;\\n7 [label=\"objectives.champion.first <= 0.5\\\\ngini = 0.226\\\\nsamples = 12942\\\\nvalue = [11262, 1680]\\\\nclass = Lose\", fillcolor=\"#e99457\"] ;\\n3 -> 7 ;\\n8 [label=\"gini = 0.199\\\\nsamples = 7490\\\\nvalue = [6650, 840]\\\\nclass = Lose\", fillcolor=\"#e89152\"] ;\\n7 -> 8 ;\\n9 [label=\"gini = 0.261\\\\nsamples = 5452\\\\nvalue = [4612, 840]\\\\nclass = Lose\", fillcolor=\"#ea985d\"] ;\\n7 -> 9 ;\\n10 [label=\"objectives.dragon.first <= 0.5\\\\ngini = 0.492\\\\nsamples = 4577\\\\nvalue = [2582, 1995]\\\\nclass = Lose\", fillcolor=\"#f9e2d2\"] ;\\n2 -> 10 ;\\n11 [label=\"objectives.champion.first <= 0.5\\\\ngini = 0.461\\\\nsamples = 2420\\\\nvalue = [1546, 874]\\\\nclass = Lose\", fillcolor=\"#f4c8a9\"] ;\\n10 -> 11 ;\\n12 [label=\"gini = 0.443\\\\nsamples = 1418\\\\nvalue = [948, 470]\\\\nclass = Lose\", fillcolor=\"#f2bf9b\"] ;\\n11 -> 12 ;\\n13 [label=\"gini = 0.481\\\\nsamples = 1002\\\\nvalue = [598, 404]\\\\nclass = Lose\", fillcolor=\"#f7d6bf\"] ;\\n11 -> 13 ;\\n14 [label=\"objectives.champion.first <= 0.5\\\\ngini = 0.499\\\\nsamples = 2157\\\\nvalue = [1036, 1121]\\\\nclass = Win\", fillcolor=\"#f0f8fd\"] ;\\n10 -> 14 ;\\n15 [label=\"gini = 0.5\\\\nsamples = 1149\\\\nvalue = [578, 571]\\\\nclass = Lose\", fillcolor=\"#fffdfd\"] ;\\n14 -> 15 ;\\n16 [label=\"gini = 0.496\\\\nsamples = 1008\\\\nvalue = [458, 550]\\\\nclass = Win\", fillcolor=\"#deeffb\"] ;\\n14 -> 16 ;\\n17 [label=\"objectives.dragon.first <= 0.5\\\\ngini = 0.499\\\\nsamples = 23345\\\\nvalue = [12215, 11130]\\\\nclass = Lose\", fillcolor=\"#fdf4ed\"] ;\\n1 -> 17 ;\\n18 [label=\"objectives.baron.first <= 0.5\\\\ngini = 0.45\\\\nsamples = 10946\\\\nvalue = [7212, 3734]\\\\nclass = Lose\", fillcolor=\"#f2c2a0\"] ;\\n17 -> 18 ;\\n19 [label=\"objectives.champion.first <= 0.5\\\\ngini = 0.427\\\\nsamples = 9146\\\\nvalue = [6316, 2830]\\\\nclass = Lose\", fillcolor=\"#f1b992\"] ;\\n18 -> 19 ;\\n20 [label=\"gini = 0.374\\\\nsamples = 4466\\\\nvalue = [3355, 1111]\\\\nclass = Lose\", fillcolor=\"#eeab7b\"] ;\\n19 -> 20 ;\\n21 [label=\"gini = 0.465\\\\nsamples = 4680\\\\nvalue = [2961, 1719]\\\\nclass = Lose\", fillcolor=\"#f4caac\"] ;\\n19 -> 21 ;\\n22 [label=\"objectives.riftHerald.first <= 0.5\\\\ngini = 0.5\\\\nsamples = 1800\\\\nvalue = [896, 904]\\\\nclass = Win\", fillcolor=\"#fdfeff\"] ;\\n18 -> 22 ;\\n23 [label=\"gini = 0.497\\\\nsamples = 433\\\\nvalue = [201, 232]\\\\nclass = Win\", fillcolor=\"#e5f2fc\"] ;\\n22 -> 23 ;\\n24 [label=\"gini = 0.5\\\\nsamples = 1367\\\\nvalue = [695, 672]\\\\nclass = Lose\", fillcolor=\"#fefbf8\"] ;\\n22 -> 24 ;\\n25 [label=\"objectives.champion.first <= 0.5\\\\ngini = 0.481\\\\nsamples = 12399\\\\nvalue = [5003, 7396]\\\\nclass = Win\", fillcolor=\"#bfdff7\"] ;\\n17 -> 25 ;\\n26 [label=\"objectives.baron.first <= 0.5\\\\ngini = 0.499\\\\nsamples = 4750\\\\nvalue = [2280, 2470]\\\\nclass = Win\", fillcolor=\"#f0f7fd\"] ;\\n25 -> 26 ;\\n27 [label=\"gini = 0.5\\\\nsamples = 3920\\\\nvalue = [1951, 1969]\\\\nclass = Win\", fillcolor=\"#fdfeff\"] ;\\n26 -> 27 ;\\n28 [label=\"gini = 0.479\\\\nsamples = 830\\\\nvalue = [329, 501]\\\\nclass = Win\", fillcolor=\"#bbddf6\"] ;\\n26 -> 28 ;\\n29 [label=\"objectives.riftHerald.first <= 0.5\\\\ngini = 0.459\\\\nsamples = 7649\\\\nvalue = [2723, 4926]\\\\nclass = Win\", fillcolor=\"#a6d3f3\"] ;\\n25 -> 29 ;\\n30 [label=\"gini = 0.482\\\\nsamples = 2636\\\\nvalue = [1070, 1566]\\\\nclass = Win\", fillcolor=\"#c0e0f7\"] ;\\n29 -> 30 ;\\n31 [label=\"gini = 0.442\\\\nsamples = 5013\\\\nvalue = [1653, 3360]\\\\nclass = Win\", fillcolor=\"#9acdf2\"] ;\\n29 -> 31 ;\\n32 [label=\"objectives.dragon.first <= 0.5\\\\ngini = 0.158\\\\nsamples = 39671\\\\nvalue = [3426, 36245]\\\\nclass = Win\", fillcolor=\"#4ca6e7\"] ;\\n0 -> 32 [labeldistance=2.5, labelangle=-45, headlabel=\"False\"] ;\\n33 [label=\"objectives.baron.first <= 0.5\\\\ngini = 0.204\\\\nsamples = 15521\\\\nvalue = [1791, 13730]\\\\nclass = Win\", fillcolor=\"#53aae8\"] ;\\n32 -> 33 ;\\n34 [label=\"objectives.tower.first <= 0.5\\\\ngini = 0.264\\\\nsamples = 5724\\\\nvalue = [896, 4828]\\\\nclass = Win\", fillcolor=\"#5eafea\"] ;\\n33 -> 34 ;\\n35 [label=\"objectives.riftHerald.first <= 0.5\\\\ngini = 0.349\\\\nsamples = 1444\\\\nvalue = [325, 1119]\\\\nclass = Win\", fillcolor=\"#73b9ed\"] ;\\n34 -> 35 ;\\n36 [label=\"gini = 0.327\\\\nsamples = 943\\\\nvalue = [194, 749]\\\\nclass = Win\", fillcolor=\"#6cb6ec\"] ;\\n35 -> 36 ;\\n37 [label=\"gini = 0.386\\\\nsamples = 501\\\\nvalue = [131, 370]\\\\nclass = Win\", fillcolor=\"#7fc0ee\"] ;\\n35 -> 37 ;\\n38 [label=\"objectives.champion.first <= 0.5\\\\ngini = 0.231\\\\nsamples = 4280\\\\nvalue = [571, 3709]\\\\nclass = Win\", fillcolor=\"#57ace9\"] ;\\n34 -> 38 ;\\n39 [label=\"gini = 0.25\\\\nsamples = 1730\\\\nvalue = [253, 1477]\\\\nclass = Win\", fillcolor=\"#5baee9\"] ;\\n38 -> 39 ;\\n40 [label=\"gini = 0.218\\\\nsamples = 2550\\\\nvalue = [318, 2232]\\\\nclass = Win\", fillcolor=\"#55abe9\"] ;\\n38 -> 40 ;\\n41 [label=\"objectives.tower.first <= 0.5\\\\ngini = 0.166\\\\nsamples = 9797\\\\nvalue = [895, 8902]\\\\nclass = Win\", fillcolor=\"#4da7e8\"] ;\\n33 -> 41 ;\\n42 [label=\"objectives.riftHerald.first <= 0.5\\\\ngini = 0.185\\\\nsamples = 3303\\\\nvalue = [341, 2962]\\\\nclass = Win\", fillcolor=\"#50a8e8\"] ;\\n41 -> 42 ;\\n43 [label=\"gini = 0.192\\\\nsamples = 2051\\\\nvalue = [221, 1830]\\\\nclass = Win\", fillcolor=\"#51a9e8\"] ;\\n42 -> 43 ;\\n44 [label=\"gini = 0.173\\\\nsamples = 1252\\\\nvalue = [120, 1132]\\\\nclass = Win\", fillcolor=\"#4ea7e8\"] ;\\n42 -> 44 ;\\n45 [label=\"objectives.riftHerald.first <= 0.5\\\\ngini = 0.156\\\\nsamples = 6494\\\\nvalue = [554, 5940]\\\\nclass = Win\", fillcolor=\"#4ba6e7\"] ;\\n41 -> 45 ;\\n46 [label=\"gini = 0.145\\\\nsamples = 1448\\\\nvalue = [114, 1334]\\\\nclass = Win\", fillcolor=\"#4aa5e7\"] ;\\n45 -> 46 ;\\n47 [label=\"gini = 0.159\\\\nsamples = 5046\\\\nvalue = [440, 4606]\\\\nclass = Win\", fillcolor=\"#4ca6e7\"] ;\\n45 -> 47 ;\\n48 [label=\"objectives.tower.first <= 0.5\\\\ngini = 0.126\\\\nsamples = 24150\\\\nvalue = [1635, 22515]\\\\nclass = Win\", fillcolor=\"#47a4e7\"] ;\\n32 -> 48 ;\\n49 [label=\"objectives.baron.first <= 0.5\\\\ngini = 0.188\\\\nsamples = 6316\\\\nvalue = [662, 5654]\\\\nclass = Win\", fillcolor=\"#50a8e8\"] ;\\n48 -> 49 ;\\n50 [label=\"objectives.champion.first <= 0.5\\\\ngini = 0.295\\\\nsamples = 1989\\\\nvalue = [358, 1631]\\\\nclass = Win\", fillcolor=\"#64b3eb\"] ;\\n49 -> 50 ;\\n51 [label=\"gini = 0.321\\\\nsamples = 951\\\\nvalue = [191, 760]\\\\nclass = Win\", fillcolor=\"#6bb6ec\"] ;\\n50 -> 51 ;\\n52 [label=\"gini = 0.27\\\\nsamples = 1038\\\\nvalue = [167, 871]\\\\nclass = Win\", fillcolor=\"#5fb0ea\"] ;\\n50 -> 52 ;\\n53 [label=\"objectives.champion.first <= 0.5\\\\ngini = 0.131\\\\nsamples = 4327\\\\nvalue = [304, 4023]\\\\nclass = Win\", fillcolor=\"#48a4e7\"] ;\\n49 -> 53 ;\\n54 [label=\"gini = 0.138\\\\nsamples = 2080\\\\nvalue = [155, 1925]\\\\nclass = Win\", fillcolor=\"#49a5e7\"] ;\\n53 -> 54 ;\\n55 [label=\"gini = 0.124\\\\nsamples = 2247\\\\nvalue = [149, 2098]\\\\nclass = Win\", fillcolor=\"#47a4e7\"] ;\\n53 -> 55 ;\\n56 [label=\"objectives.champion.first <= 0.5\\\\ngini = 0.103\\\\nsamples = 17834\\\\nvalue = [973, 16861]\\\\nclass = Win\", fillcolor=\"#44a3e7\"] ;\\n48 -> 56 ;\\n57 [label=\"objectives.baron.first <= 0.5\\\\ngini = 0.126\\\\nsamples = 6379\\\\nvalue = [431, 5948]\\\\nclass = Win\", fillcolor=\"#47a4e7\"] ;\\n56 -> 57 ;\\n58 [label=\"gini = 0.144\\\\nsamples = 2797\\\\nvalue = [219, 2578]\\\\nclass = Win\", fillcolor=\"#4aa5e7\"] ;\\n57 -> 58 ;\\n59 [label=\"gini = 0.111\\\\nsamples = 3582\\\\nvalue = [212, 3370]\\\\nclass = Win\", fillcolor=\"#45a3e7\"] ;\\n57 -> 59 ;\\n60 [label=\"objectives.riftHerald.first <= 0.5\\\\ngini = 0.09\\\\nsamples = 11455\\\\nvalue = [542, 10913]\\\\nclass = Win\", fillcolor=\"#43a2e6\"] ;\\n56 -> 60 ;\\n61 [label=\"gini = 0.116\\\\nsamples = 3134\\\\nvalue = [193, 2941]\\\\nclass = Win\", fillcolor=\"#46a3e7\"] ;\\n60 -> 61 ;\\n62 [label=\"gini = 0.08\\\\nsamples = 8321\\\\nvalue = [349, 7972]\\\\nclass = Win\", fillcolor=\"#42a1e6\"] ;\\n60 -> 62 ;\\n}'}\n"
     ]
    }
   ],
   "source": [
    "with open('output2.pickle', 'rb') as fr:\n",
    "    output2 = pickle.load(fr)\n",
    "print(output2) "
   ]
  },
  {
   "cell_type": "code",
   "execution_count": 97,
   "id": "86f57aa2",
   "metadata": {
    "ExecuteTime": {
     "end_time": "2021-12-24T13:42:58.903587Z",
     "start_time": "2021-12-24T13:42:58.399626Z"
    }
   },
   "outputs": [
    {
     "ename": "InvocationException",
     "evalue": "Program terminated with status: 1. stderr follows: Format: \"png\" not recognized. Use one of:\r\n",
     "output_type": "error",
     "traceback": [
      "\u001b[1;31m---------------------------------------------------------------------------\u001b[0m",
      "\u001b[1;31mInvocationException\u001b[0m                       Traceback (most recent call last)",
      "\u001b[1;32mC:\\WINDOWS\\TEMP/ipykernel_18768/1305526542.py\u001b[0m in \u001b[0;36m<module>\u001b[1;34m\u001b[0m\n\u001b[0;32m      4\u001b[0m \u001b[1;33m\u001b[0m\u001b[0m\n\u001b[0;32m      5\u001b[0m \u001b[0mgraph\u001b[0m \u001b[1;33m=\u001b[0m \u001b[0mgraph_from_dot_data\u001b[0m\u001b[1;33m(\u001b[0m\u001b[0moutput2\u001b[0m\u001b[1;33m[\u001b[0m\u001b[1;34m'decision_tree'\u001b[0m\u001b[1;33m]\u001b[0m\u001b[1;33m)\u001b[0m\u001b[1;33m\u001b[0m\u001b[1;33m\u001b[0m\u001b[0m\n\u001b[1;32m----> 6\u001b[1;33m \u001b[0mImage\u001b[0m\u001b[1;33m(\u001b[0m\u001b[0mgraph\u001b[0m\u001b[1;33m.\u001b[0m\u001b[0mcreate_png\u001b[0m\u001b[1;33m(\u001b[0m\u001b[1;33m)\u001b[0m\u001b[1;33m)\u001b[0m\u001b[1;33m\u001b[0m\u001b[1;33m\u001b[0m\u001b[0m\n\u001b[0m",
      "\u001b[1;32m~\\anaconda3\\lib\\site-packages\\pydotplus\\graphviz.py\u001b[0m in \u001b[0;36m<lambda>\u001b[1;34m(f, prog)\u001b[0m\n\u001b[0;32m   1795\u001b[0m             self.__setattr__(\n\u001b[0;32m   1796\u001b[0m                 \u001b[1;34m'create_'\u001b[0m \u001b[1;33m+\u001b[0m \u001b[0mfrmt\u001b[0m\u001b[1;33m,\u001b[0m\u001b[1;33m\u001b[0m\u001b[1;33m\u001b[0m\u001b[0m\n\u001b[1;32m-> 1797\u001b[1;33m                 \u001b[1;32mlambda\u001b[0m \u001b[0mf\u001b[0m\u001b[1;33m=\u001b[0m\u001b[0mfrmt\u001b[0m\u001b[1;33m,\u001b[0m \u001b[0mprog\u001b[0m\u001b[1;33m=\u001b[0m\u001b[0mself\u001b[0m\u001b[1;33m.\u001b[0m\u001b[0mprog\u001b[0m\u001b[1;33m:\u001b[0m \u001b[0mself\u001b[0m\u001b[1;33m.\u001b[0m\u001b[0mcreate\u001b[0m\u001b[1;33m(\u001b[0m\u001b[0mformat\u001b[0m\u001b[1;33m=\u001b[0m\u001b[0mf\u001b[0m\u001b[1;33m,\u001b[0m \u001b[0mprog\u001b[0m\u001b[1;33m=\u001b[0m\u001b[0mprog\u001b[0m\u001b[1;33m)\u001b[0m\u001b[1;33m\u001b[0m\u001b[1;33m\u001b[0m\u001b[0m\n\u001b[0m\u001b[0;32m   1798\u001b[0m             )\n\u001b[0;32m   1799\u001b[0m             \u001b[0mf\u001b[0m \u001b[1;33m=\u001b[0m \u001b[0mself\u001b[0m\u001b[1;33m.\u001b[0m\u001b[0m__dict__\u001b[0m\u001b[1;33m[\u001b[0m\u001b[1;34m'create_'\u001b[0m \u001b[1;33m+\u001b[0m \u001b[0mfrmt\u001b[0m\u001b[1;33m]\u001b[0m\u001b[1;33m\u001b[0m\u001b[1;33m\u001b[0m\u001b[0m\n",
      "\u001b[1;32m~\\anaconda3\\lib\\site-packages\\pydotplus\\graphviz.py\u001b[0m in \u001b[0;36mcreate\u001b[1;34m(self, prog, format)\u001b[0m\n\u001b[0;32m   2028\u001b[0m \u001b[1;33m\u001b[0m\u001b[0m\n\u001b[0;32m   2029\u001b[0m         \u001b[1;32mif\u001b[0m \u001b[0mstatus\u001b[0m \u001b[1;33m!=\u001b[0m \u001b[1;36m0\u001b[0m\u001b[1;33m:\u001b[0m\u001b[1;33m\u001b[0m\u001b[1;33m\u001b[0m\u001b[0m\n\u001b[1;32m-> 2030\u001b[1;33m             raise InvocationException(\n\u001b[0m\u001b[0;32m   2031\u001b[0m                 'Program terminated with status: %d. stderr follows: %s' % (\n\u001b[0;32m   2032\u001b[0m                     status, stderr_output))\n",
      "\u001b[1;31mInvocationException\u001b[0m: Program terminated with status: 1. stderr follows: Format: \"png\" not recognized. Use one of:\r\n"
     ]
    }
   ],
   "source": [
    "import os\n",
    "from pydotplus.graphviz import graph_from_dot_data\n",
    "os.environ['PATH'] += os.pathsep + \"C:/Program Files/Graphviz 2.44.1/bin\"\n",
    "\n",
    "graph = graph_from_dot_data(output2['decision_tree'])\n",
    "Image(graph.create_png())"
   ]
  },
  {
   "cell_type": "markdown",
   "id": "b207def9",
   "metadata": {},
   "source": [
    "# 화면3. 뇌피셜을 검증해보자"
   ]
  },
  {
   "cell_type": "code",
   "execution_count": 32,
   "id": "82d7e6cd",
   "metadata": {
    "ExecuteTime": {
     "end_time": "2021-12-24T12:15:37.569051Z",
     "start_time": "2021-12-24T12:15:37.548691Z"
    }
   },
   "outputs": [
    {
     "name": "stdout",
     "output_type": "stream",
     "text": [
      "{'get_gameduration_top3': ['Skarner', 'Zyra', 'Sona'], 'get_damageturret_top': ['Ziggs', 'Yorick', 'Tryndamere'], 'get_efficiency_top3': ['Ivern', 'Graves', 'Karthus'], 'get_surrender_top3': (['Kaisa', 'Ezreal', 'LeeSin'], ['Skarner', 'Velkoz', 'Sivir']), 'get_visionscore_top3': ['Bard', 'Pyke', 'Rakan'], 'get_pentakills_top3': ['Samira', 'Kalista', 'MasterYi'], 'get_objectivesstolen_top3': ['Kayn', 'LeeSin', 'Khazix'], 'get_minionskilled_top3': ['Irelia', 'Sivir', 'Kaisa']}\n"
     ]
    }
   ],
   "source": [
    "with open('output3.pickle', 'rb') as fr:\n",
    "    output3 = pickle.load(fr)\n",
    "    print(output3) "
   ]
  },
  {
   "cell_type": "code",
   "execution_count": 37,
   "id": "a3acec58",
   "metadata": {
    "ExecuteTime": {
     "end_time": "2021-12-24T12:19:14.859313Z",
     "start_time": "2021-12-24T12:19:14.842073Z"
    }
   },
   "outputs": [],
   "source": [
    "gameduration = output3['get_gameduration_top3']\n",
    "damageturret = output3['get_damageturret_top']\n",
    "efficiency = output3['get_efficiency_top3']\n",
    "x, y = output3['get_surrender_top3'][0], output3['get_surrender_top3'][1]\n",
    "visionscore = output3['get_visionscore_top3']\n",
    "pentakills = output3['get_pentakills_top3']\n",
    "objectivesstolen = output3['get_objectivesstolen_top3']\n",
    "minionskilled = output3['get_minionskilled_top3']"
   ]
  },
  {
   "cell_type": "code",
   "execution_count": 38,
   "id": "da3df49a",
   "metadata": {
    "ExecuteTime": {
     "end_time": "2021-12-24T12:19:37.789453Z",
     "start_time": "2021-12-24T12:19:36.899444Z"
    }
   },
   "outputs": [],
   "source": [
    "from PIL import Image\n",
    "import numpy as np\n",
    "from io import BytesIO\n",
    "import matplotlib.pyplot as plt\n",
    "import requests\n",
    "url = 'http://ddragon.leagueoflegends.com/cdn/11.24.1/img/champion/'\n",
    "\n",
    "for i,champ in enumerate(gameduration):\n",
    "    r = requests.get(url+champ+'.png')\n",
    "    pil_im = Image.open(BytesIO(r.content))\n",
    "    pil_im.save(\"./deck/\"+str(i)+\"_gameduration.png\")\n",
    "    \n",
    "for i,champ in enumerate(damageturret):\n",
    "    r = requests.get(url+champ+'.png')\n",
    "    pil_im = Image.open(BytesIO(r.content))\n",
    "    pil_im.save(\"./deck/\"+str(i)+\"_damageturret.png\")\n",
    "\n",
    "for i,champ in enumerate(efficiency):\n",
    "    r = requests.get(url+champ+'.png')\n",
    "    pil_im = Image.open(BytesIO(r.content))\n",
    "    pil_im.save(\"./deck/\"+str(i)+\"_efficiency.png\")\n",
    "                         \n",
    "for i,champ in enumerate(x):\n",
    "    r = requests.get(url+champ+'.png')\n",
    "    pil_im = Image.open(BytesIO(r.content))\n",
    "    pil_im.save(\"./deck/\"+str(i)+\"_surrender.png\")\n",
    "        \n",
    "for i,champ in enumerate(y):\n",
    "    r = requests.get(url+champ+'.png')\n",
    "    pil_im = Image.open(BytesIO(r.content))\n",
    "    pil_im.save(\"./deck/\"+str(i)+\"_getsurrender.png\")\n",
    "    \n",
    "for i,champ in enumerate(visionscore):\n",
    "    r = requests.get(url+champ+'.png')\n",
    "    pil_im = Image.open(BytesIO(r.content))\n",
    "    pil_im.save(\"./deck/\"+str(i)+\"_visionscore.png\")\n",
    "                \n",
    "for i,champ in enumerate(pentakills):\n",
    "    r = requests.get(url+champ+'.png')\n",
    "    pil_im = Image.open(BytesIO(r.content))\n",
    "    pil_im.save(\"./deck/\"+str(i)+\"_pentakills.png\")\n",
    "                         \n",
    "for i,champ in enumerate(objectivesstolen):\n",
    "    r = requests.get(url+champ+'.png')\n",
    "    pil_im = Image.open(BytesIO(r.content))\n",
    "    pil_im.save(\"./deck/\"+str(i)+\"_objectivesstolen.png\")  \n",
    "    \n",
    "for i,champ in enumerate(minionskilled):\n",
    "    r = requests.get(url+champ+'.png')\n",
    "    pil_im = Image.open(BytesIO(r.content))\n",
    "    pil_im.save(\"./deck/\"+str(i)+\"_minionskilled.png\")            "
   ]
  }
 ],
 "metadata": {
  "kernelspec": {
   "display_name": "Python 3 (ipykernel)",
   "language": "python",
   "name": "python3"
  },
  "language_info": {
   "codemirror_mode": {
    "name": "ipython",
    "version": 3
   },
   "file_extension": ".py",
   "mimetype": "text/x-python",
   "name": "python",
   "nbconvert_exporter": "python",
   "pygments_lexer": "ipython3",
   "version": "3.8.8"
  },
  "toc": {
   "base_numbering": 1,
   "nav_menu": {},
   "number_sections": true,
   "sideBar": true,
   "skip_h1_title": false,
   "title_cell": "Table of Contents",
   "title_sidebar": "Contents",
   "toc_cell": false,
   "toc_position": {
    "height": "calc(100% - 180px)",
    "left": "10px",
    "top": "150px",
    "width": "165px"
   },
   "toc_section_display": true,
   "toc_window_display": true
  }
 },
 "nbformat": 4,
 "nbformat_minor": 5
}
